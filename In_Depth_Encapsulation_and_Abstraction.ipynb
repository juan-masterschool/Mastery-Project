{
  "nbformat": 4,
  "nbformat_minor": 0,
  "metadata": {
    "colab": {
      "provenance": [],
      "authorship_tag": "ABX9TyOGGUBtI9NaszpXJ34HFtmX",
      "include_colab_link": true
    },
    "kernelspec": {
      "name": "python3",
      "display_name": "Python 3"
    },
    "language_info": {
      "name": "python"
    }
  },
  "cells": [
    {
      "cell_type": "markdown",
      "metadata": {
        "id": "view-in-github",
        "colab_type": "text"
      },
      "source": [
        "<a href=\"https://colab.research.google.com/github/juan-masterschool/Mastery-Project/blob/main/In_Depth_Encapsulation_and_Abstraction.ipynb\" target=\"_parent\"><img src=\"https://colab.research.google.com/assets/colab-badge.svg\" alt=\"Open In Colab\"/></a>"
      ]
    },
    {
      "cell_type": "markdown",
      "source": [
        "As we learned in campus, Encapsulation restricts a user from directly modifying the data members or variables of a class.\n",
        "\n",
        "In Python, access modifiers don't really exist in comparison to stricter languages like C++. Instead, Python has a convention that communicates the intention, instead of really enforcing it.\n",
        "\n",
        "In stricter languages, the access modifiers act the following way:\n",
        "\n",
        "*   **public** means that attributes can be accessed from outside the class.\n",
        "*   **private** means that attributes cannot be accessed from outside the class.\n",
        "*   **protected** means that attributes cannot be accessed from outside the class, but they can be accessed from subclasses.\n",
        "\n",
        "In Python, things are public by default, but we will learn how we can use one convention to communicate something else."
      ],
      "metadata": {
        "id": "tzipU5vf9pLu"
      }
    },
    {
      "cell_type": "code",
      "source": [
        "class Car:\n",
        "\n",
        "    def __init__(self, brand, age, model, color, average_speed):\n",
        "        # weak “internal use” indicator\n",
        "        self._age = age\n",
        "        self.model = model\n",
        "        self.color = color\n",
        "        self.average_speed = average_speed"
      ],
      "metadata": {
        "id": "o_vfId71GPYi"
      },
      "execution_count": null,
      "outputs": []
    },
    {
      "cell_type": "markdown",
      "source": [
        "On the code above, we can see the convention:\n",
        "\n",
        "**Single leading underscore**\n",
        "\n",
        "A single leading underscore can be used to communicate that a class attribute is for \"internal use\", which is the closest to \"protected\". [Python's documentation](https://docs.python.org/3.7/tutorial/classes.html#private-variables) states that \" “Private” instance variables that cannot be accessed except from inside an object don’t exist in Python. However, there is a convention that is followed by most Python code: a name prefixed with an underscore (e.g. _spam) should be treated as a non-public part of the API\".\n",
        "\n",
        "[PEP 8](https://peps.python.org/pep-0008/#method-names-and-instance-variables) tells us to \"Use one leading underscore only for non-public methods and instance variables.\"\n",
        "\n",
        "[PEP 8](https://peps.python.org/pep-0008/#descriptive-naming-styles) also tells us that \"a _single_leading_underscore is a weak “internal use” indicator. E.g. from M import * does not import objects whose names start with an underscore.\"\n",
        "\n"
      ],
      "metadata": {
        "id": "fSXNhNP0GSIq"
      }
    },
    {
      "cell_type": "markdown",
      "source": [
        "**Double leading underscore**"
      ],
      "metadata": {
        "id": "-7xpa5F560_j"
      }
    },
    {
      "cell_type": "code",
      "source": [
        "class Car:\n",
        "\n",
        "    def __init__(self, brand, age, model, color, average_speed):\n",
        "        # Not-so-correct communication of private, we will learn the real purpose below\n",
        "        self.__brand = brand\n",
        "        self.model = model\n",
        "        self.color = color\n",
        "        self.average_speed = average_speed"
      ],
      "metadata": {
        "id": "CvL2bV9Y3y54"
      },
      "execution_count": null,
      "outputs": []
    },
    {
      "cell_type": "markdown",
      "source": [
        "Although nothing is really private in Python, a not-so-correct convention  exists to communicate that something is \"private\".\n",
        "\n",
        "PEP 8 [communicates](https://peps.python.org/pep-0008/#method-names-and-instance-variables) the real purpose of a double leading underscore:\n",
        "\n",
        "\"To avoid name clashes with subclasses, use two leading underscores to invoke Python’s name mangling rules. Python mangles these names with the class name: if class Foo has an attribute named \\__a, it cannot be accessed by Foo.\\__a. (An insistent user could still gain access by calling Foo._Foo__a.) Generally, double leading underscores should be used only to avoid name conflicts with attributes in classes designed to be subclassed.\"\n",
        "\n",
        "We can also see [here](https://docs.python.org/3/tutorial/classes.html#private-variables) the real purpose of it:\n",
        "\n",
        "\"Since there is a valid use-case for class-private members (namely to avoid name clashes of names with names defined by subclasses), there is limited support for such a mechanism, called name mangling. Any identifier of the form \\__spam (at least two leading underscores, at most one trailing underscore) is textually replaced with _classname__spam, where classname is the current class name with leading underscore(s) stripped.\"\n",
        "\n",
        "It's exactly because of the difficulty to access an attribute that has been name-mangled with a double leading underscore, that a not-so-correct convention exists of it communicating something is private, but again, that's not the real purpose of it, and there is some controversy about the use of __names, as mentioned as well in PEP 8 [here](https://peps.python.org/pep-0008/#designing-for-inheritance).\n",
        "\n",
        "So ultimately, it's best to avoid using __ to communicate something is private, and \"should be used only to avoid name conflicts with attributes in classes designed to be subclassed.\""
      ],
      "metadata": {
        "id": "XJ26Ply7LJPH"
      }
    },
    {
      "cell_type": "code",
      "execution_count": null,
      "metadata": {
        "id": "3f19NJaz9mQg"
      },
      "outputs": [],
      "source": [
        "class Car:\n",
        "\n",
        "    def __init__(self, brand, age, model, color, average_speed):\n",
        "        # Double leading underscore not-so-correctly communicating is \"private\" (but not real purpose of the __)\n",
        "        self.__brand = brand\n",
        "        # Single leading underscore communicating is for \"internal use\" (an actual convention)\n",
        "        self._age = age\n",
        "        self.model = model\n",
        "        self.color = color\n",
        "        self.average_speed = average_speed\n",
        "\n",
        "    def max_speed(self):\n",
        "        return self.average_speed * self._helper_velocity_method()\n",
        "\n",
        "    # The effectiveness of the calculation below is not relevant.\n",
        "    # Most importantly is showcasing the use of a single leading underscore to communicate that is for \"internal use\".\n",
        "    def _helper_velocity_method(self):\n",
        "        if self.average_speed < 50:\n",
        "            return 2\n",
        "        else:\n",
        "            return 3\n",
        "\n",
        "    # A property to control how we access the _age attribute\n",
        "    @property\n",
        "    def age(self):\n",
        "        return self._age\n",
        "\n",
        "    @age.setter\n",
        "    def age(self, new_age):\n",
        "        if new_age < 0:\n",
        "            raise ValueError(\"Age cannot be negative.\")\n",
        "        self._age = new_age\n"
      ]
    },
    {
      "cell_type": "markdown",
      "source": [
        "On the above **Car** class, we can see how we communicate the intention of \"internal use\" in *_age* and *_helper_velocity_method(self)*, and the not-so-correct intention of \"private\" in *__brand*.\n",
        "\n",
        "We can also see how our *age* [property](https://docs.python.org/3/library/functions.html#property) allows us to control how we want *_age* to be accessed, and how at the same time allows \"us to provide a simple interface to a user to use something, without having to understand how it really works.\" (Abstraction)."
      ],
      "metadata": {
        "id": "Niu9rLStW3_6"
      }
    },
    {
      "cell_type": "code",
      "source": [
        "# Creating a Car object\n",
        "my_car = Car(\"BMW\", 1, \"XT\", \"Red\", 100)\n",
        "\n",
        "# We can see here that we can still access _age and __brand\n",
        "print(my_car._age)\n",
        "print(my_car._Car__brand)\n",
        "\n",
        "# We can see the check on our property working\n",
        "try:\n",
        "    my_car.age = -5\n",
        "except ValueError as e:\n",
        "    print(e)\n",
        "\n",
        "# Accesing age through the property, we can see the the value of 1 is unchanged\n",
        "print(my_car.age)\n",
        "\n",
        "# I can still modify the attribute through _age if I am persistent\n",
        "my_car._age = -5\n",
        "print(my_car.age)"
      ],
      "metadata": {
        "colab": {
          "base_uri": "https://localhost:8080/"
        },
        "id": "Vca5fGblRy8C",
        "outputId": "e0465827-c7af-4517-ccd1-1561d4adb16b"
      },
      "execution_count": null,
      "outputs": [
        {
          "output_type": "stream",
          "name": "stdout",
          "text": [
            "1\n",
            "BMW\n",
            "Age cannot be negative.\n",
            "1\n",
            "-5\n"
          ]
        }
      ]
    },
    {
      "cell_type": "markdown",
      "source": [
        "Above we can see an example on how a Car object is created, we showcase how \" “Private” instance variables that cannot be accessed except from inside an object don’t exist in Python\" and how our property allowed us to validate how **_age** is modified (even though direct access and modification through _age is still possible).\n",
        "\n",
        "So ultimately, a single leading underscore can be used, according to PEP8 in the following way: \"Use one leading underscore only for non-public methods and instance variables.\" The wording \"non-public\" is used, because again nothing is really private in Python.\n",
        "\n",
        "And a double leading underscore, according as well to PEP8, \"\"should be used only to avoid name conflicts with attributes in classes designed to be subclassed.\", so not really for privacy like on other languages."
      ],
      "metadata": {
        "id": "owgAgwNgUWxI"
      }
    },
    {
      "cell_type": "markdown",
      "source": [
        "## **Exercise**"
      ],
      "metadata": {
        "id": "tRBH44RZYCDm"
      }
    },
    {
      "cell_type": "markdown",
      "source": [
        "Let's create our own class. It can be about whatever we want, but make sure it follows the concepts of Abstraction and Encapsulation. We will use it on our next session about **Polymorphism and Inheritance**.\n",
        "\n"
      ],
      "metadata": {
        "id": "5pk3hMfEYWdJ"
      }
    }
  ]
}